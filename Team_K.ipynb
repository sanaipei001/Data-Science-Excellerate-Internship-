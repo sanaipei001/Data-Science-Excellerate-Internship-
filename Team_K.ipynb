{
  "nbformat": 4,
  "nbformat_minor": 0,
  "metadata": {
    "colab": {
      "provenance": [],
      "include_colab_link": true
    },
    "kernelspec": {
      "name": "python3",
      "display_name": "Python 3"
    },
    "language_info": {
      "name": "python"
    }
  },
  "cells": [
    {
      "cell_type": "markdown",
      "metadata": {
        "id": "view-in-github",
        "colab_type": "text"
      },
      "source": [
        "<a href=\"https://colab.research.google.com/github/sanaipei001/Data-Science-Excellerate-Internship-/blob/main/Team_K.ipynb\" target=\"_parent\"><img src=\"https://colab.research.google.com/assets/colab-badge.svg\" alt=\"Open In Colab\"/></a>"
      ]
    },
    {
      "cell_type": "markdown",
      "source": [
        "STEP 1: Import Required Libraries"
      ],
      "metadata": {
        "id": "VbQj9DzA-n8d"
      }
    },
    {
      "cell_type": "code",
      "execution_count": null,
      "metadata": {
        "id": "8TveRRgG-S1w"
      },
      "outputs": [],
      "source": [
        "import pandas as pd\n",
        "import numpy as np"
      ]
    },
    {
      "cell_type": "markdown",
      "source": [
        "STEP 2: Load Dataset"
      ],
      "metadata": {
        "id": "lIPtTNVg-v0M"
      }
    },
    {
      "cell_type": "code",
      "source": [
        "from google.colab import files\n",
        "uploaded = files.upload()"
      ],
      "metadata": {
        "colab": {
          "base_uri": "https://localhost:8080/",
          "height": 110
        },
        "id": "CDv4ZVDf-k3Y",
        "outputId": "e691fce3-a139-4468-bc26-f799c71d81f5"
      },
      "execution_count": null,
      "outputs": [
        {
          "output_type": "display_data",
          "data": {
            "text/plain": [
              "<IPython.core.display.HTML object>"
            ],
            "text/html": [
              "\n",
              "     <input type=\"file\" id=\"files-13e0f9cd-2c7a-47cd-81eb-8b45d25ea1f6\" name=\"files[]\" multiple disabled\n",
              "        style=\"border:none\" />\n",
              "     <output id=\"result-13e0f9cd-2c7a-47cd-81eb-8b45d25ea1f6\">\n",
              "      Upload widget is only available when the cell has been executed in the\n",
              "      current browser session. Please rerun this cell to enable.\n",
              "      </output>\n",
              "      <script>// Copyright 2017 Google LLC\n",
              "//\n",
              "// Licensed under the Apache License, Version 2.0 (the \"License\");\n",
              "// you may not use this file except in compliance with the License.\n",
              "// You may obtain a copy of the License at\n",
              "//\n",
              "//      http://www.apache.org/licenses/LICENSE-2.0\n",
              "//\n",
              "// Unless required by applicable law or agreed to in writing, software\n",
              "// distributed under the License is distributed on an \"AS IS\" BASIS,\n",
              "// WITHOUT WARRANTIES OR CONDITIONS OF ANY KIND, either express or implied.\n",
              "// See the License for the specific language governing permissions and\n",
              "// limitations under the License.\n",
              "\n",
              "/**\n",
              " * @fileoverview Helpers for google.colab Python module.\n",
              " */\n",
              "(function(scope) {\n",
              "function span(text, styleAttributes = {}) {\n",
              "  const element = document.createElement('span');\n",
              "  element.textContent = text;\n",
              "  for (const key of Object.keys(styleAttributes)) {\n",
              "    element.style[key] = styleAttributes[key];\n",
              "  }\n",
              "  return element;\n",
              "}\n",
              "\n",
              "// Max number of bytes which will be uploaded at a time.\n",
              "const MAX_PAYLOAD_SIZE = 100 * 1024;\n",
              "\n",
              "function _uploadFiles(inputId, outputId) {\n",
              "  const steps = uploadFilesStep(inputId, outputId);\n",
              "  const outputElement = document.getElementById(outputId);\n",
              "  // Cache steps on the outputElement to make it available for the next call\n",
              "  // to uploadFilesContinue from Python.\n",
              "  outputElement.steps = steps;\n",
              "\n",
              "  return _uploadFilesContinue(outputId);\n",
              "}\n",
              "\n",
              "// This is roughly an async generator (not supported in the browser yet),\n",
              "// where there are multiple asynchronous steps and the Python side is going\n",
              "// to poll for completion of each step.\n",
              "// This uses a Promise to block the python side on completion of each step,\n",
              "// then passes the result of the previous step as the input to the next step.\n",
              "function _uploadFilesContinue(outputId) {\n",
              "  const outputElement = document.getElementById(outputId);\n",
              "  const steps = outputElement.steps;\n",
              "\n",
              "  const next = steps.next(outputElement.lastPromiseValue);\n",
              "  return Promise.resolve(next.value.promise).then((value) => {\n",
              "    // Cache the last promise value to make it available to the next\n",
              "    // step of the generator.\n",
              "    outputElement.lastPromiseValue = value;\n",
              "    return next.value.response;\n",
              "  });\n",
              "}\n",
              "\n",
              "/**\n",
              " * Generator function which is called between each async step of the upload\n",
              " * process.\n",
              " * @param {string} inputId Element ID of the input file picker element.\n",
              " * @param {string} outputId Element ID of the output display.\n",
              " * @return {!Iterable<!Object>} Iterable of next steps.\n",
              " */\n",
              "function* uploadFilesStep(inputId, outputId) {\n",
              "  const inputElement = document.getElementById(inputId);\n",
              "  inputElement.disabled = false;\n",
              "\n",
              "  const outputElement = document.getElementById(outputId);\n",
              "  outputElement.innerHTML = '';\n",
              "\n",
              "  const pickedPromise = new Promise((resolve) => {\n",
              "    inputElement.addEventListener('change', (e) => {\n",
              "      resolve(e.target.files);\n",
              "    });\n",
              "  });\n",
              "\n",
              "  const cancel = document.createElement('button');\n",
              "  inputElement.parentElement.appendChild(cancel);\n",
              "  cancel.textContent = 'Cancel upload';\n",
              "  const cancelPromise = new Promise((resolve) => {\n",
              "    cancel.onclick = () => {\n",
              "      resolve(null);\n",
              "    };\n",
              "  });\n",
              "\n",
              "  // Wait for the user to pick the files.\n",
              "  const files = yield {\n",
              "    promise: Promise.race([pickedPromise, cancelPromise]),\n",
              "    response: {\n",
              "      action: 'starting',\n",
              "    }\n",
              "  };\n",
              "\n",
              "  cancel.remove();\n",
              "\n",
              "  // Disable the input element since further picks are not allowed.\n",
              "  inputElement.disabled = true;\n",
              "\n",
              "  if (!files) {\n",
              "    return {\n",
              "      response: {\n",
              "        action: 'complete',\n",
              "      }\n",
              "    };\n",
              "  }\n",
              "\n",
              "  for (const file of files) {\n",
              "    const li = document.createElement('li');\n",
              "    li.append(span(file.name, {fontWeight: 'bold'}));\n",
              "    li.append(span(\n",
              "        `(${file.type || 'n/a'}) - ${file.size} bytes, ` +\n",
              "        `last modified: ${\n",
              "            file.lastModifiedDate ? file.lastModifiedDate.toLocaleDateString() :\n",
              "                                    'n/a'} - `));\n",
              "    const percent = span('0% done');\n",
              "    li.appendChild(percent);\n",
              "\n",
              "    outputElement.appendChild(li);\n",
              "\n",
              "    const fileDataPromise = new Promise((resolve) => {\n",
              "      const reader = new FileReader();\n",
              "      reader.onload = (e) => {\n",
              "        resolve(e.target.result);\n",
              "      };\n",
              "      reader.readAsArrayBuffer(file);\n",
              "    });\n",
              "    // Wait for the data to be ready.\n",
              "    let fileData = yield {\n",
              "      promise: fileDataPromise,\n",
              "      response: {\n",
              "        action: 'continue',\n",
              "      }\n",
              "    };\n",
              "\n",
              "    // Use a chunked sending to avoid message size limits. See b/62115660.\n",
              "    let position = 0;\n",
              "    do {\n",
              "      const length = Math.min(fileData.byteLength - position, MAX_PAYLOAD_SIZE);\n",
              "      const chunk = new Uint8Array(fileData, position, length);\n",
              "      position += length;\n",
              "\n",
              "      const base64 = btoa(String.fromCharCode.apply(null, chunk));\n",
              "      yield {\n",
              "        response: {\n",
              "          action: 'append',\n",
              "          file: file.name,\n",
              "          data: base64,\n",
              "        },\n",
              "      };\n",
              "\n",
              "      let percentDone = fileData.byteLength === 0 ?\n",
              "          100 :\n",
              "          Math.round((position / fileData.byteLength) * 100);\n",
              "      percent.textContent = `${percentDone}% done`;\n",
              "\n",
              "    } while (position < fileData.byteLength);\n",
              "  }\n",
              "\n",
              "  // All done.\n",
              "  yield {\n",
              "    response: {\n",
              "      action: 'complete',\n",
              "    }\n",
              "  };\n",
              "}\n",
              "\n",
              "scope.google = scope.google || {};\n",
              "scope.google.colab = scope.google.colab || {};\n",
              "scope.google.colab._files = {\n",
              "  _uploadFiles,\n",
              "  _uploadFilesContinue,\n",
              "};\n",
              "})(self);\n",
              "</script> "
            ]
          },
          "metadata": {}
        },
        {
          "output_type": "stream",
          "name": "stdout",
          "text": [
            "Saving SLU Opportunity Wise Data-1710158595043 - SLU Opportunity Wise Data-1710158595043.csv to SLU Opportunity Wise Data-1710158595043 - SLU Opportunity Wise Data-1710158595043.csv\n"
          ]
        }
      ]
    },
    {
      "cell_type": "code",
      "source": [
        "import io\n",
        "import pandas as pd # Ensure pandas is imported here\n",
        "df = pd.read_csv(io.BytesIO(uploaded['SLU Opportunity Wise Data-1710158595043 - SLU Opportunity Wise Data-1710158595043.csv']))"
      ],
      "metadata": {
        "id": "GjEa4YpvAMSR"
      },
      "execution_count": null,
      "outputs": []
    },
    {
      "cell_type": "markdown",
      "source": [
        "STEP 3: Handle Missing Values"
      ],
      "metadata": {
        "id": "N1IJf4pn_eYT"
      }
    },
    {
      "cell_type": "code",
      "source": [
        "# View missing summary\n",
        "print(\" Initial missing values:\\n\", df.isnull().sum())"
      ],
      "metadata": {
        "colab": {
          "base_uri": "https://localhost:8080/"
        },
        "id": "0lWbzYh3_oAL",
        "outputId": "b4168dea-4278-4c10-8f09-f739acda6b32"
      },
      "execution_count": null,
      "outputs": [
        {
          "output_type": "stream",
          "name": "stdout",
          "text": [
            " Initial missing values:\n",
            " Learner SignUp DateTime       0\n",
            "Opportunity Id                0\n",
            "Opportunity Name              0\n",
            "Opportunity Category          0\n",
            "Opportunity End Date          0\n",
            "First Name                    0\n",
            "Date of Birth                 0\n",
            "Gender                        0\n",
            "Country                       0\n",
            "Institution Name              5\n",
            "Current/Intended Major        5\n",
            "Entry created at              0\n",
            "Status Description            0\n",
            "Status Code                   0\n",
            "Apply Date                    0\n",
            "Opportunity Start Date     3794\n",
            "dtype: int64\n"
          ]
        }
      ]
    },
    {
      "cell_type": "markdown",
      "source": [
        "STEP 4: Expected Columns"
      ],
      "metadata": {
        "id": "ZNrNJ4MfAdVw"
      }
    },
    {
      "cell_type": "code",
      "source": [
        "# Ensure all expected columns are present\n",
        "expected_columns = [\n",
        "    'Learner SignUp DateTime', 'Opportunity Id', 'Opportunity Name', 'Opportunity Category',\n",
        "    'Date of Birth', 'Gender', 'Country', 'Institution Name', 'Major',\n",
        "    'Apply Date', 'Opportunity Start Date', 'Opportunity End Date',\n",
        "    'Status Description', 'Status Code', 'Entry created at'\n",
        "]"
      ],
      "metadata": {
        "id": "QT7qdAqOAoLv"
      },
      "execution_count": null,
      "outputs": []
    },
    {
      "cell_type": "code",
      "source": [
        "# Check and fill any missing columns\n",
        "import numpy as np # Add import here for robustness\n",
        "for col in expected_columns:\n",
        "    if col not in df.columns:\n",
        "        df[col] = np.nan  # Add missing column with NaN"
      ],
      "metadata": {
        "id": "11bp8WiKA23j"
      },
      "execution_count": null,
      "outputs": []
    },
    {
      "cell_type": "code",
      "source": [
        "# Fill missing 'Institution Name' with 'Unknown'\n",
        "df['Institution Name'] = df['Institution Name'].fillna('Unknown')"
      ],
      "metadata": {
        "id": "-ZbtT5SkFJX-"
      },
      "execution_count": null,
      "outputs": []
    },
    {
      "cell_type": "markdown",
      "source": [
        "STEP 5: Convert Date Column to DateTime Format"
      ],
      "metadata": {
        "id": "P9-mddwhGOkR"
      }
    },
    {
      "cell_type": "code",
      "source": [
        "# Fix dates and convert\n",
        "date_columns = [\n",
        "    'Learner SignUp DateTime', 'Apply Date', 'Opportunity Start Date',\n",
        "    'Opportunity End Date', 'Date of Birth', 'Entry created at'\n",
        "]\n",
        "\n",
        "for col in date_columns:\n",
        "    df[col] = pd.to_datetime(df[col], errors='coerce')"
      ],
      "metadata": {
        "id": "CS15MK1zFQfV"
      },
      "execution_count": null,
      "outputs": []
    },
    {
      "cell_type": "code",
      "source": [
        "# Fill Opportunity Start/End Date with placeholder if needed\n",
        "df['Opportunity Start Date'] = df['Opportunity Start Date'].fillna(pd.to_datetime('1900-01-01'))\n",
        "df['Opportunity End Date'] = df['Opportunity End Date'].fillna(pd.to_datetime('1900-01-01'))\n",
        "\n",
        "# Fill Date of Birth with median date if missing\n",
        "median_dob = df['Date of Birth'].median()\n",
        "df['Date of Birth'] = df['Date of Birth'].fillna(median_dob)\n",
        "\n",
        "# Fill any other missing categorical values with 'Unknown'\n",
        "df = df.fillna('Unknown')"
      ],
      "metadata": {
        "id": "AaAzEdKAFVXU"
      },
      "execution_count": null,
      "outputs": []
    },
    {
      "cell_type": "code",
      "source": [
        "# Final check: no missing values\n",
        "print(\"\\n Final missing values:\\n\", df.isnull().sum())"
      ],
      "metadata": {
        "colab": {
          "base_uri": "https://localhost:8080/"
        },
        "id": "ua8-cWjQFvuQ",
        "outputId": "507be990-f4b6-4d5c-8a5c-7bd5bba77a79"
      },
      "execution_count": null,
      "outputs": [
        {
          "output_type": "stream",
          "name": "stdout",
          "text": [
            "\n",
            " Final missing values:\n",
            " Learner SignUp DateTime    0\n",
            "Opportunity Id             0\n",
            "Opportunity Name           0\n",
            "Opportunity Category       0\n",
            "Opportunity End Date       0\n",
            "First Name                 0\n",
            "Date of Birth              0\n",
            "Gender                     0\n",
            "Country                    0\n",
            "Institution Name           0\n",
            "Current/Intended Major     0\n",
            "Entry created at           0\n",
            "Status Description         0\n",
            "Status Code                0\n",
            "Apply Date                 0\n",
            "Opportunity Start Date     0\n",
            "Major                      0\n",
            "dtype: int64\n"
          ]
        }
      ]
    },
    {
      "cell_type": "markdown",
      "source": [
        "STEP 6: Featured Engineering"
      ],
      "metadata": {
        "id": "Rt2lUseuGjJi"
      }
    },
    {
      "cell_type": "code",
      "source": [
        "# 1. Age\n",
        "# Ensure Date of Birth is datetime before calculating age\n",
        "df['Date of Birth'] = pd.to_datetime(df['Date of Birth'], errors='coerce')\n",
        "df['Age'] = (pd.to_datetime('today') - df['Date of Birth']).dt.days // 365\n",
        "\n",
        "\n",
        "# 2. Signup Month\n",
        "# Ensure Learner SignUp DateTime is datetime before extracting month\n",
        "df['Learner SignUp DateTime'] = pd.to_datetime(df['Learner SignUp DateTime'], errors='coerce')\n",
        "# Extract month. .dt accessor handles NaT correctly, resulting in NaN\n",
        "df['Signup Month'] = df['Learner SignUp DateTime'].dt.month\n",
        "# Fill NaNs in 'Signup Month' if needed, for example, with 0 or a more appropriate value\n",
        "df['Signup Month'] = df['Signup Month'].fillna(0) # Filling NaNs in month with 0\n",
        "\n",
        "# 3. Application Lag\n",
        "# Ensure Apply Date and Learner SignUp DateTime are datetime\n",
        "df['Apply Date'] = pd.to_datetime(df['Apply Date'], errors='coerce')\n",
        "df['Learner SignUp DateTime'] = pd.to_datetime(df['Learner SignUp DateTime'], errors='coerce')\n",
        "df['Application Lag'] = (df['Apply Date'] - df['Learner SignUp DateTime']).dt.days\n",
        "# Fill NaNs in 'Application Lag' if needed\n",
        "df['Application Lag'] = df['Application Lag'].fillna(-1) # Filling NaNs in lag with -1\n",
        "\n",
        "# 4. Opportunity Duration\n",
        "# Ensure Opportunity End Date and Opportunity Start Date are datetime\n",
        "df['Opportunity End Date'] = pd.to_datetime(df['Opportunity End Date'], errors='coerce')\n",
        "df['Opportunity Start Date'] = pd.to_datetime(df['Opportunity Start Date'], errors='coerce')\n",
        "df['Opportunity Duration (days)'] = (df['Opportunity End Date'] - df['Opportunity Start Date']).dt.days\n",
        "# Fill NaNs in 'Opportunity Duration (days)' if needed\n",
        "df['Opportunity Duration (days)'] = df['Opportunity Duration (days)'].fillna(-1) # Filling NaNs in duration with -1\n",
        "\n",
        "\n",
        "# 5. Is International\n",
        "df['Is International'] = df['Country'].apply(lambda x: False if str(x).strip().lower() == 'united states' else True)\n",
        "\n",
        "# 6. Status Category\n",
        "def categorize_status(code):\n",
        "    try:\n",
        "        # Convert code to string first to handle potential non-string types from previous fillna('Unknown')\n",
        "        code_str = str(code)\n",
        "        code_int = int(code_str)\n",
        "        if code_int == 1080:\n",
        "            return 'Started'\n",
        "        elif code_int == 1070:\n",
        "            return 'Team Allocated'\n",
        "        else:\n",
        "            return 'Other'\n",
        "    except ValueError: # Catch errors during int conversion\n",
        "        return 'Other'\n",
        "    except TypeError: # Catch other potential type errors\n",
        "         return 'Other'\n",
        "\n",
        "df['Status Category'] = df['Status Code'].apply(categorize_status)\n",
        "\n",
        "# Re-apply the fillna('Unknown') only for columns where 'Unknown' is appropriate\n",
        "# Identify columns that should NOT be filled with 'Unknown' (e.g., numeric or datetime)\n",
        "cols_to_exclude_from_unknown_fill = ['Age', 'Signup Month', 'Application Lag', 'Opportunity Duration (days)'] + date_columns\n",
        "\n",
        "# Fill remaining NaNs with 'Unknown' only in columns where it makes sense\n",
        "for col in df.columns:\n",
        "    if col not in cols_to_exclude_from_unknown_fill:\n",
        "        df[col] = df[col].fillna('Unknown')\n",
        "\n",
        "# Handle potential NaNs in date columns if they weren't filled with a specific date placeholder before\n",
        "# This step might be redundant if previous fillna for dates were sufficient, but included for robustness\n",
        "for col in date_columns:\n",
        "     if df[col].isnull().any():\n",
        "         # Choose an appropriate fill value for date columns if needed, e.g., a minimum date\n",
        "         df[col] = df[col].fillna(pd.to_datetime('1900-01-01'))"
      ],
      "metadata": {
        "id": "8UwVnaVXG8jf"
      },
      "execution_count": null,
      "outputs": []
    },
    {
      "cell_type": "markdown",
      "source": [
        "STEP 7: Verify Missing Values after Cleaning"
      ],
      "metadata": {
        "id": "fT_OAy2kHLMx"
      }
    },
    {
      "cell_type": "code",
      "source": [
        "print(\"\\n Missing values after cleaning:\")\n",
        "print(df.isnull().sum())"
      ],
      "metadata": {
        "colab": {
          "base_uri": "https://localhost:8080/"
        },
        "id": "a3286W7YHEFn",
        "outputId": "d37e8148-342d-4651-f1ac-8e186dc90e03"
      },
      "execution_count": null,
      "outputs": [
        {
          "output_type": "stream",
          "name": "stdout",
          "text": [
            "\n",
            " Missing values after cleaning:\n",
            "Learner SignUp DateTime        0\n",
            "Opportunity Id                 0\n",
            "Opportunity Name               0\n",
            "Opportunity Category           0\n",
            "Opportunity End Date           0\n",
            "First Name                     0\n",
            "Date of Birth                  0\n",
            "Gender                         0\n",
            "Country                        0\n",
            "Institution Name               0\n",
            "Current/Intended Major         0\n",
            "Entry created at               0\n",
            "Status Description             0\n",
            "Status Code                    0\n",
            "Apply Date                     0\n",
            "Opportunity Start Date         0\n",
            "Major                          0\n",
            "Age                            0\n",
            "Signup Month                   0\n",
            "Application Lag                0\n",
            "Opportunity Duration (days)    0\n",
            "Is International               0\n",
            "Status Category                0\n",
            "dtype: int64\n"
          ]
        }
      ]
    },
    {
      "cell_type": "markdown",
      "source": [
        "STEP 8: Export Cleaned Dataset"
      ],
      "metadata": {
        "id": "xWYFg_JYHh1G"
      }
    },
    {
      "cell_type": "code",
      "source": [
        "# Final Cleaned Dataset\n",
        "df.to_csv('/content/SLU_Cleaned_Final.csv', index=False)\n",
        "print(\"\\n Cleaned dataset exported as 'SLU_Cleaned_Final.csv'\")"
      ],
      "metadata": {
        "colab": {
          "base_uri": "https://localhost:8080/"
        },
        "id": "dkop7gauGlYW",
        "outputId": "96af829f-ba5d-4d4e-ce04-4b34eeec5e26"
      },
      "execution_count": null,
      "outputs": [
        {
          "output_type": "stream",
          "name": "stdout",
          "text": [
            "\n",
            " Cleaned dataset exported as 'SLU_Cleaned_Final.csv'\n"
          ]
        }
      ]
    },
    {
      "cell_type": "markdown",
      "source": [
        "STEP 9: Download CSV Cleaned Dataset File"
      ],
      "metadata": {
        "id": "whmOJZBcHrEe"
      }
    },
    {
      "cell_type": "code",
      "source": [
        "#  Download\n",
        "files.download('/content/SLU_Cleaned_Final.csv')"
      ],
      "metadata": {
        "colab": {
          "base_uri": "https://localhost:8080/",
          "height": 17
        },
        "id": "3pz_kqzLB3p8",
        "outputId": "0b397082-cb37-4bbe-ffea-e45ef2e0b38d"
      },
      "execution_count": null,
      "outputs": [
        {
          "output_type": "display_data",
          "data": {
            "text/plain": [
              "<IPython.core.display.Javascript object>"
            ],
            "application/javascript": [
              "\n",
              "    async function download(id, filename, size) {\n",
              "      if (!google.colab.kernel.accessAllowed) {\n",
              "        return;\n",
              "      }\n",
              "      const div = document.createElement('div');\n",
              "      const label = document.createElement('label');\n",
              "      label.textContent = `Downloading \"${filename}\": `;\n",
              "      div.appendChild(label);\n",
              "      const progress = document.createElement('progress');\n",
              "      progress.max = size;\n",
              "      div.appendChild(progress);\n",
              "      document.body.appendChild(div);\n",
              "\n",
              "      const buffers = [];\n",
              "      let downloaded = 0;\n",
              "\n",
              "      const channel = await google.colab.kernel.comms.open(id);\n",
              "      // Send a message to notify the kernel that we're ready.\n",
              "      channel.send({})\n",
              "\n",
              "      for await (const message of channel.messages) {\n",
              "        // Send a message to notify the kernel that we're ready.\n",
              "        channel.send({})\n",
              "        if (message.buffers) {\n",
              "          for (const buffer of message.buffers) {\n",
              "            buffers.push(buffer);\n",
              "            downloaded += buffer.byteLength;\n",
              "            progress.value = downloaded;\n",
              "          }\n",
              "        }\n",
              "      }\n",
              "      const blob = new Blob(buffers, {type: 'application/binary'});\n",
              "      const a = document.createElement('a');\n",
              "      a.href = window.URL.createObjectURL(blob);\n",
              "      a.download = filename;\n",
              "      div.appendChild(a);\n",
              "      a.click();\n",
              "      div.remove();\n",
              "    }\n",
              "  "
            ]
          },
          "metadata": {}
        },
        {
          "output_type": "display_data",
          "data": {
            "text/plain": [
              "<IPython.core.display.Javascript object>"
            ],
            "application/javascript": [
              "download(\"download_1806da52-cd97-46a4-8c38-427128adff37\", \"SLU_Cleaned_Final.csv\", 2665467)"
            ]
          },
          "metadata": {}
        }
      ]
    }
  ]
}